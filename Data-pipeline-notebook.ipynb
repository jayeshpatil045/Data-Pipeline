{
	"metadata": {
		"kernelspec": {
			"name": "glue_pyspark",
			"display_name": "Glue PySpark",
			"language": "python"
		},
		"language_info": {
			"name": "Python_Glue_Session",
			"mimetype": "text/x-python",
			"codemirror_mode": {
				"name": "python",
				"version": 3
			},
			"pygments_lexer": "python3",
			"file_extension": ".py"
		}
	},
	"nbformat_minor": 4,
	"nbformat": 4,
	"cells": [
		{
			"cell_type": "markdown",
			"source": "# AWS Glue Studio Notebook\n##### \n\"\"\"\n@Author: Jayesh Patil\n@Date: 2024-11-25\n@Last Modified by: Jayesh Patil\n@Last Modified time: 2024-11-25\n@Title: Glue Pipeline using Glue notebook\n\"\"\"\n",
			"metadata": {
				"editable": true,
				"trusted": true
			}
		},
		{
			"cell_type": "markdown",
			"source": "#### Optional: Run this cell to see available notebook commands (\"magics\").\n",
			"metadata": {
				"editable": true,
				"trusted": true
			}
		},
		{
			"cell_type": "code",
			"source": "%help",
			"metadata": {
				"trusted": true,
				"editable": true
			},
			"execution_count": 2,
			"outputs": [
				{
					"name": "stdout",
					"text": "Welcome to the Glue Interactive Sessions Kernel\nFor more information on available magic commands, please type %help in any new cell.\n\nPlease view our Getting Started page to access the most up-to-date information on the Interactive Sessions kernel: https://docs.aws.amazon.com/glue/latest/dg/interactive-sessions.html\nInstalled kernel version: 1.0.7 \n",
					"output_type": "stream"
				},
				{
					"output_type": "display_data",
					"data": {
						"text/markdown": "\n# Available Magic Commands\n\n## Sessions Magic\n\n----\n    %help                             Return a list of descriptions and input types for all magic commands. \n    %profile            String        Specify a profile in your aws configuration to use as the credentials provider.\n    %region             String        Specify the AWS region in which to initialize a session. \n                                      Default from ~/.aws/config on Linux or macOS, \n                                      or C:\\Users\\ USERNAME \\.aws\\config\" on Windows.\n    %idle_timeout       Int           The number of minutes of inactivity after which a session will timeout. \n                                      Default: 2880 minutes (48 hours).\n    %timeout            Int           The number of minutes after which a session will timeout. \n                                      Default: 2880 minutes (48 hours).\n    %session_id_prefix  String        Define a String that will precede all session IDs in the format \n                                      [session_id_prefix]-[session_id]. If a session ID is not provided,\n                                      a random UUID will be generated.\n    %status                           Returns the status of the current Glue session including its duration, \n                                      configuration and executing user / role.\n    %session_id                       Returns the session ID for the running session.\n    %list_sessions                    Lists all currently running sessions by ID.\n    %stop_session                     Stops the current session.\n    %glue_version       String        The version of Glue to be used by this session. \n                                      Currently, the only valid options are 2.0, 3.0 and 4.0. \n                                      Default: 2.0.\n    %reconnect          String        Specify a live session ID to switch/reconnect to the sessions.\n----\n\n## Selecting Session Types\n\n----\n    %streaming          String        Sets the session type to Glue Streaming.\n    %etl                String        Sets the session type to Glue ETL.\n    %session_type       String        Specify a session_type to be used. Supported values: streaming and etl.\n----\n\n## Glue Config Magic \n*(common across all session types)*\n\n----\n\n    %%configure         Dictionary    A json-formatted dictionary consisting of all configuration parameters for \n                                      a session. Each parameter can be specified here or through individual magics.\n    %iam_role           String        Specify an IAM role ARN to execute your session with.\n                                      Default from ~/.aws/config on Linux or macOS, \n                                      or C:\\Users\\%USERNAME%\\.aws\\config` on Windows.\n    %number_of_workers  int           The number of workers of a defined worker_type that are allocated \n                                      when a session runs.\n                                      Default: 5.\n    %additional_python_modules  List  Comma separated list of additional Python modules to include in your cluster \n                                      (can be from Pypi or S3).\n    %%tags        Dictionary          Specify a json-formatted dictionary consisting of tags to use in the session.\n    \n    %%assume_role Dictionary, String  Specify a json-formatted dictionary or an IAM role ARN string to create a session \n                                      for cross account access.\n                                      E.g. {valid arn}\n                                      %%assume_role \n                                      'arn:aws:iam::XXXXXXXXXXXX:role/AWSGlueServiceRole' \n                                      E.g. {credentials}\n                                      %%assume_role\n                                      {\n                                            \"aws_access_key_id\" : \"XXXXXXXXXXXX\",\n                                            \"aws_secret_access_key\" : \"XXXXXXXXXXXX\",\n                                            \"aws_session_token\" : \"XXXXXXXXXXXX\"\n                                       }\n----\n\n                                      \n## Magic for Spark Sessions (ETL & Streaming)\n\n----\n    %worker_type        String        Set the type of instances the session will use as workers. \n    %connections        List          Specify a comma separated list of connections to use in the session.\n    %extra_py_files     List          Comma separated list of additional Python files From S3.\n    %extra_jars         List          Comma separated list of additional Jars to include in the cluster.\n    %spark_conf         String        Specify custom spark configurations for your session. \n                                      E.g. %spark_conf spark.serializer=org.apache.spark.serializer.KryoSerializer\n----\n\n## Action Magic\n\n----\n\n    %%sql               String        Run SQL code. All lines after the initial %%sql magic will be passed\n                                      as part of the SQL code.  \n    %matplot      Matplotlib figure   Visualize your data using the matplotlib library.\n                                      E.g. \n                                      import matplotlib.pyplot as plt\n                                      # Set X-axis and Y-axis values\n                                      x = [5, 2, 8, 4, 9]\n                                      y = [10, 4, 8, 5, 2]\n                                      # Create a bar chart \n                                      plt.bar(x, y) \n                                      # Show the plot\n                                      %matplot plt    \n    %plotly            Plotly figure  Visualize your data using the plotly library.\n                                      E.g.\n                                      import plotly.express as px\n                                      #Create a graphical figure\n                                      fig = px.line(x=[\"a\",\"b\",\"c\"], y=[1,3,2], title=\"sample figure\")\n                                      #Show the figure\n                                      %plotly fig\n\n  \n                \n----\n\n"
					},
					"metadata": {}
				}
			]
		},
		{
			"cell_type": "markdown",
			"source": "####  Run this cell to set up and start your interactive session.\n",
			"metadata": {
				"editable": true,
				"trusted": true
			}
		},
		{
			"cell_type": "code",
			"source": "%idle_timeout 2880\n%glue_version 3.0\n%worker_type G.1X\n%number_of_workers 5\n%connections redshift-demo-connection\n\nimport sys\nfrom awsglue.transforms import *\nfrom awsglue.utils import getResolvedOptions\nfrom pyspark.context import SparkContext\nfrom awsglue.context import GlueContext\nfrom awsglue.job import Job\nfrom pyspark.sql.functions import *\nfrom awsglue.dynamicframe import DynamicFrame\n  \nsc = SparkContext.getOrCreate()\nglueContext = GlueContext(sc)\nspark = glueContext.spark_session\njob = Job(glueContext)",
			"metadata": {
				"trusted": true,
				"editable": true
			},
			"execution_count": 1,
			"outputs": [
				{
					"name": "stdout",
					"text": "Current idle_timeout is None minutes.\nidle_timeout has been set to 2880 minutes.\nSetting Glue version to: 3.0\nPrevious worker type: None\nSetting new worker type to: G.1X\nPrevious number of workers: None\nSetting new number of workers to: 5\nConnections to be included:\nredshift-demo-connection\nTrying to create a Glue session for the kernel.\nSession Type: glueetl\nWorker Type: G.1X\nNumber of Workers: 5\nIdle Timeout: 2880\nSession ID: 66b826c7-8efa-47d7-aa4f-a3559aad923d\nApplying the following default arguments:\n--glue_kernel_version 1.0.7\n--enable-glue-datacatalog true\nWaiting for session 66b826c7-8efa-47d7-aa4f-a3559aad923d to get into ready status...\nSession 66b826c7-8efa-47d7-aa4f-a3559aad923d has been created.\n\n",
					"output_type": "stream"
				}
			]
		},
		{
			"cell_type": "markdown",
			"source": "#### Example: Create a DynamicFrame from a table in the AWS Glue Data Catalog , dropping null records and display its schema\n",
			"metadata": {
				"editable": true,
				"trusted": true
			}
		},
		{
			"cell_type": "code",
			"source": "dyf = glueContext.create_dynamic_frame.from_catalog(database='salesdb', table_name='sales_records_csv')\ndyf = DropNullFields.apply(frame=dyf)\ndyf.printSchema()",
			"metadata": {
				"trusted": true,
				"editable": true
			},
			"execution_count": 2,
			"outputs": [
				{
					"name": "stdout",
					"text": "null_fields []\nroot\n|-- id: long\n|-- region: string\n|-- country: string\n|-- item_type: string\n|-- sales_channel: string\n|-- order_priority: string\n|-- order_date: string\n|-- order_id: long\n|-- ship_date: string\n|-- units_sold: long\n|-- unit_price: double\n|-- unit_cost: double\n|-- total_revenue: double\n|-- total_cost: double\n|-- total_profit: double\n",
					"output_type": "stream"
				}
			]
		},
		{
			"cell_type": "markdown",
			"source": "#### Example: Convert the DynamicFrame to a Spark DataFrame and display a sample of the data\n",
			"metadata": {
				"editable": true,
				"trusted": true
			}
		},
		{
			"cell_type": "code",
			"source": "df = dyf.toDF()\ndf.show()",
			"metadata": {
				"trusted": true,
				"editable": true
			},
			"execution_count": 3,
			"outputs": [
				{
					"name": "stdout",
					"text": "+---+--------------------+--------------------+---------------+-------------+--------------+----------+---------+----------+----------+----------+---------+-------------+----------+------------+\n| id|              region|             country|      item_type|sales_channel|order_priority|order_date| order_id| ship_date|units_sold|unit_price|unit_cost|total_revenue|total_cost|total_profit|\n+---+--------------------+--------------------+---------------+-------------+--------------+----------+---------+----------+----------+----------+---------+-------------+----------+------------+\n|  1|Central America a...|Antigua and Barbuda |      Baby Food|       Online|             M|12/20/2013|957081544| 1/11/2014|       552|    255.28|   159.42|    140914.56|  87999.84|    52914.72|\n|  2|Central America a...|              Panama|         Snacks|      Offline|             C|  7/5/2010|301644504| 7/26/2010|      2167|    152.58|    97.44|    330640.86| 211152.48|   119488.38|\n|  3|              Europe|      Czech Republic|      Beverages|      Offline|             C| 9/12/2011|478051030| 9/29/2011|      4778|     47.45|    31.79|     226716.1| 151892.62|    74823.48|\n|  4|                Asia|         North Korea|         Cereal|      Offline|             L| 5/13/2010|892599952| 6/15/2010|      9016|     205.7|   117.11|    1854591.2|1055863.76|   798727.44|\n|  5|                Asia|           Sri Lanka|         Snacks|      Offline|             C| 7/20/2015|571902596| 7/27/2015|      7542|    152.58|    97.44|   1150758.36| 734892.48|   415865.88|\n|  6|Middle East and N...|             Morocco|  Personal Care|      Offline|             L| 11/8/2010|412882792|11/22/2010|        48|     81.73|    56.67|      3923.04|   2720.16|     1202.88|\n|  7|Australia and Oce...|Federated States ...|        Clothes|      Offline|             H| 3/28/2011|932776868| 5/10/2011|      8258|    109.28|    35.84|    902434.24| 295966.72|   606467.52|\n|  8|              Europe|Bosnia and Herzeg...|        Clothes|       Online|             M|10/14/2013|919133651| 11/4/2013|       927|    109.28|    35.84|    101302.56|  33223.68|    68078.88|\n|  9|Middle East and N...|         Afghanistan|        Clothes|      Offline|             M| 8/27/2016|579814469| 10/5/2016|      8841|    109.28|    35.84|    966144.48| 316861.44|   649283.04|\n| 10|  Sub-Saharan Africa|            Ethiopia|      Baby Food|       Online|             M| 4/13/2015|192993152|  5/7/2015|      9817|    255.28|   159.42|   2506083.76|1565026.14|   941057.62|\n| 11|Middle East and N...|              Turkey|Office Supplies|      Offline|             C| 9/25/2013|557156026|10/15/2013|      3704|    651.21|   524.96|   2412081.84|1944451.84|    467630.0|\n| 12|Middle East and N...|                Oman|      Cosmetics|       Online|             M| 5/12/2013|741101920| 5/17/2013|      7382|     437.2|   263.33|    3227410.4|1943902.06|  1283508.34|\n| 13|                Asia|            Malaysia|         Cereal|      Offline|             L| 7/31/2016|333942162| 8/25/2016|      9762|     205.7|   117.11|    2008043.4|1143227.82|   864815.58|\n| 14|Central America a...|         Saint Lucia|      Cosmetics|      Offline|             H|  7/6/2015|795100581| 7/16/2015|      6786|     437.2|   263.33|    2966839.2|1786957.38|  1179881.82|\n| 15|Central America a...|Saint Vincent and...|      Baby Food|       Online|             L|11/28/2010|504313504| 12/3/2010|      6428|    255.28|   159.42|   1640939.84|1024751.76|   616188.08|\n| 16|Middle East and N...|             Lebanon|           Meat|      Offline|             H|12/17/2015|611629760| 1/31/2016|      3693|    421.89|   364.69|   1558039.77|1346800.17|    211239.6|\n| 17|              Europe|             Austria|         Cereal|      Offline|             C| 8/13/2014|987410676|  9/6/2014|      5616|     205.7|   117.11|    1155211.2| 657689.76|   497521.44|\n| 18|              Europe|            Bulgaria|Office Supplies|       Online|             L|10/31/2010|672330081|11/29/2010|      6266|    651.21|   524.96|   4080481.86|3289399.36|    791082.5|\n| 19|       North America|              Mexico|      Beverages|       Online|             C| 3/13/2017|127374303| 3/20/2017|      1742|     47.45|    31.79|      82657.9|  55378.18|    27279.72|\n| 20|Central America a...| Trinidad and Tobago|      Baby Food|      Offline|             C| 4/16/2013|783842170|  6/1/2013|      5172|    255.28|   159.42|   1320308.16| 824520.24|   495787.92|\n+---+--------------------+--------------------+---------------+-------------+--------------+----------+---------+----------+----------+----------+---------+-------------+----------+------------+\nonly showing top 20 rows\n",
					"output_type": "stream"
				}
			]
		},
		{
			"cell_type": "markdown",
			"source": "#### Example: Perform data transformations\n",
			"metadata": {
				"editable": true,
				"tags": [],
				"trusted": true
			}
		},
		{
			"cell_type": "code",
			"source": "spark.sql(\"set spark.sql.legacy.timeParserPolicy=LEGACY\")\nsales_df = df.withColumn(\"Order_Date\", to_date(unix_timestamp(col('order_date'), 'MM/dd/yyyy').cast('timestamp'))) \\\n             .withColumn(\"Ship_Date\", to_date(unix_timestamp(col('ship_date'), 'MM/dd/yyyy').cast('timestamp')))\n\nsales_df.show(10, True)\n",
			"metadata": {
				"trusted": true,
				"tags": []
			},
			"execution_count": 4,
			"outputs": [
				{
					"name": "stdout",
					"text": "+---+--------------------+--------------------+-------------+-------------+--------------+----------+---------+----------+----------+----------+---------+-------------+----------+------------+\n| id|              region|             country|    item_type|sales_channel|order_priority|Order_Date| order_id| Ship_Date|units_sold|unit_price|unit_cost|total_revenue|total_cost|total_profit|\n+---+--------------------+--------------------+-------------+-------------+--------------+----------+---------+----------+----------+----------+---------+-------------+----------+------------+\n|  1|Central America a...|Antigua and Barbuda |    Baby Food|       Online|             M|2013-12-20|957081544|2014-01-11|       552|    255.28|   159.42|    140914.56|  87999.84|    52914.72|\n|  2|Central America a...|              Panama|       Snacks|      Offline|             C|2010-07-05|301644504|2010-07-26|      2167|    152.58|    97.44|    330640.86| 211152.48|   119488.38|\n|  3|              Europe|      Czech Republic|    Beverages|      Offline|             C|2011-09-12|478051030|2011-09-29|      4778|     47.45|    31.79|     226716.1| 151892.62|    74823.48|\n|  4|                Asia|         North Korea|       Cereal|      Offline|             L|2010-05-13|892599952|2010-06-15|      9016|     205.7|   117.11|    1854591.2|1055863.76|   798727.44|\n|  5|                Asia|           Sri Lanka|       Snacks|      Offline|             C|2015-07-20|571902596|2015-07-27|      7542|    152.58|    97.44|   1150758.36| 734892.48|   415865.88|\n|  6|Middle East and N...|             Morocco|Personal Care|      Offline|             L|2010-11-08|412882792|2010-11-22|        48|     81.73|    56.67|      3923.04|   2720.16|     1202.88|\n|  7|Australia and Oce...|Federated States ...|      Clothes|      Offline|             H|2011-03-28|932776868|2011-05-10|      8258|    109.28|    35.84|    902434.24| 295966.72|   606467.52|\n|  8|              Europe|Bosnia and Herzeg...|      Clothes|       Online|             M|2013-10-14|919133651|2013-11-04|       927|    109.28|    35.84|    101302.56|  33223.68|    68078.88|\n|  9|Middle East and N...|         Afghanistan|      Clothes|      Offline|             M|2016-08-27|579814469|2016-10-05|      8841|    109.28|    35.84|    966144.48| 316861.44|   649283.04|\n| 10|  Sub-Saharan Africa|            Ethiopia|    Baby Food|       Online|             M|2015-04-13|192993152|2015-05-07|      9817|    255.28|   159.42|   2506083.76|1565026.14|   941057.62|\n+---+--------------------+--------------------+-------------+-------------+--------------+----------+---------+----------+----------+----------+---------+-------------+----------+------------+\nonly showing top 10 rows\n",
					"output_type": "stream"
				}
			]
		},
		{
			"cell_type": "markdown",
			"source": "#### Group by Region and Country and calculate aggregate metrics\n",
			"metadata": {}
		},
		{
			"cell_type": "code",
			"source": "aggregate_df = sales_df.groupBy(\"Region\", \"Country\", year(\"order_date\").alias('year'), quarter(\"order_date\").alias('quarter')).agg(\n    sum(\"Total_Revenue\").alias(\"Total_Revenue_By_Region_Country\"),\n    sum(\"Total_Cost\").alias(\"Total_Cost_By_Region_Country\"),\n    sum(\"Total_Profit\").alias(\"Total_Profit_By_Region_Country\")\n)\n\n",
			"metadata": {
				"trusted": true,
				"tags": []
			},
			"execution_count": 5,
			"outputs": [
				{
					"name": "stdout",
					"text": "\n",
					"output_type": "stream"
				}
			]
		},
		{
			"cell_type": "markdown",
			"source": "#### Show the aggregated data (for demonstration purposes)\n",
			"metadata": {
				"tags": []
			}
		},
		{
			"cell_type": "code",
			"source": "aggregate_df.orderBy(\"year\",\"quarter\").show()\naggregate_df.count()",
			"metadata": {
				"trusted": true,
				"tags": []
			},
			"execution_count": 6,
			"outputs": [
				{
					"name": "stdout",
					"text": "+--------------------+--------------------+----+-------+-------------------------------+----------------------------+------------------------------+\n|              Region|             Country|year|quarter|Total_Revenue_By_Region_Country|Total_Cost_By_Region_Country|Total_Profit_By_Region_Country|\n+--------------------+--------------------+----+-------+-------------------------------+----------------------------+------------------------------+\n|Central America a...|           Nicaragua|2010|      1|                       511987.3|                   291486.79|                     220500.51|\n|Middle East and N...|                Oman|2010|      1|                     2680430.97|                  2015687.94|                     664743.03|\n|Australia and Oce...|          East Timor|2010|      1|                     1271998.35|                  1099540.35|                      172458.0|\n|  Sub-Saharan Africa|              Zambia|2010|      1|                      5837205.6|                  4453417.91|                    1383787.69|\n|              Europe|             Andorra|2010|      1|             3348578.1900000004|          2008080.1500000001|                    1340498.04|\n|              Europe|         Switzerland|2010|      1|                      255802.95|                   171379.89|                      84423.06|\n|Central America a...|             Jamaica|2010|      1|                     1573974.57|                  1268828.32|                     305146.25|\n|       North America|              Mexico|2010|      1|                      538028.59|                   373058.61|                     164969.98|\n|Middle East and N...|             Somalia|2010|      1|                     2485916.64|                  1552431.96|                     933484.68|\n|                Asia|           Sri Lanka|2010|      1|                      200419.52|                    65730.56|                     134688.96|\n|Middle East and N...|             Algeria|2010|      1|                      229050.88|                    75120.64|                     153930.24|\n|              Europe|          Luxembourg|2010|      1|                     1123251.46|                   662970.63|                     460280.83|\n|Central America a...|Saint Kitts and N...|2010|      1|                       245126.7|                   164227.14|                      80899.56|\n|              Europe|               Italy|2010|      1|                      438322.08|                   143754.24|                     294567.84|\n|Middle East and N...|                Iran|2010|      1|                     2931671.66|                  2239089.38|                     692582.28|\n|Central America a...|         El Salvador|2010|      1|                      1886886.1|                  1074250.03|                     812636.07|\n|              Europe|            Bulgaria|2010|      1|                      1829789.5|           839380.1499999999|                     990409.35|\n|                Asia|            Cambodia|2010|      1|              5682062.319999999|          4130533.3400000003|            1551528.9800000002|\n|              Europe|              Sweden|2010|      1|                      4149902.4|                  2499528.36|                    1650374.04|\n|              Europe|              Kosovo|2010|      1|                      677247.76|                   399728.28|                     277519.48|\n+--------------------+--------------------+----+-------+-------------------------------+----------------------------+------------------------------+\nonly showing top 20 rows\n\n3317\n",
					"output_type": "stream"
				}
			]
		},
		{
			"cell_type": "markdown",
			"source": "#### Renaming the cloumns and displaying the content in a sorted manner.",
			"metadata": {}
		},
		{
			"cell_type": "code",
			"source": "aggregate_df= aggregate_df.withColumnRenamed(\"Total_Revenue_By_Region_Country\",\"Total_Revenue\")\\\n                          .withColumnRenamed(\"Total_Cost_By_Region_Country\",\"Total_Cost\")\\\n                          .withColumnRenamed(\"Total_Profit_By_Region_Country\",\"Total_Profit\")\naggregate_df.orderBy(\"year\",\"quarter\").show()",
			"metadata": {
				"trusted": true,
				"tags": []
			},
			"execution_count": 7,
			"outputs": [
				{
					"name": "stdout",
					"text": "+--------------------+--------------------+----+-------+------------------+------------------+------------------+\n|              Region|             Country|year|quarter|     Total_Revenue|        Total_Cost|      Total_Profit|\n+--------------------+--------------------+----+-------+------------------+------------------+------------------+\n|                Asia|              Brunei|2010|      1|         408277.98|         260586.81|147691.16999999998|\n|  Sub-Saharan Africa|              Zambia|2010|      1|         5837205.6|        4453417.91|        1383787.69|\n|Middle East and N...|        Saudi Arabia|2010|      1|         179642.54|         124560.66|          55081.88|\n|                Asia|            Cambodia|2010|      1| 5682062.319999999|4130533.3400000003|1551528.9800000002|\n|Middle East and N...|             Somalia|2010|      1|        2485916.64|        1552431.96|         933484.68|\n|Central America a...|Saint Kitts and N...|2010|      1|          245126.7|         164227.14|          80899.56|\n|Central America a...|         Saint Lucia|2010|      1|         304091.94|         194197.92|         109894.02|\n|              Europe|              Kosovo|2010|      1|         677247.76|         399728.28|         277519.48|\n|       North America|              Mexico|2010|      1|         538028.59|         373058.61|         164969.98|\n|              Europe|              Sweden|2010|      1|         4149902.4|        2499528.36|        1650374.04|\n|                Asia|           Sri Lanka|2010|      1|         200419.52|          65730.56|         134688.96|\n|Middle East and N...|             Algeria|2010|      1|         229050.88|          75120.64|         153930.24|\n|              Europe|             Andorra|2010|      1|3348578.1900000004|2008080.1500000001|        1340498.04|\n|Middle East and N...|                Oman|2010|      1|        2680430.97|        2015687.94|         664743.03|\n|              Europe|               Italy|2010|      1|         438322.08|         143754.24|         294567.84|\n|              Europe|         Switzerland|2010|      1|         255802.95|         171379.89|          84423.06|\n|Middle East and N...|                Iran|2010|      1|        2931671.66|        2239089.38|         692582.28|\n|Central America a...|             Jamaica|2010|      1|        1573974.57|        1268828.32|         305146.25|\n|              Europe|            Bulgaria|2010|      1|         1829789.5| 839380.1499999999|         990409.35|\n|Australia and Oce...|          East Timor|2010|      1|        1271998.35|        1099540.35|          172458.0|\n+--------------------+--------------------+----+-------+------------------+------------------+------------------+\nonly showing top 20 rows\n",
					"output_type": "stream"
				}
			]
		},
		{
			"cell_type": "markdown",
			"source": "#### Example: Convert the Spark DataFrame to a DynamicFrame and display a sample of the data",
			"metadata": {}
		},
		{
			"cell_type": "code",
			"source": "dyf = DynamicFrame.fromDF(aggregate_df, glueContext, \"dynamic_frame\")",
			"metadata": {
				"trusted": true,
				"tags": []
			},
			"execution_count": 8,
			"outputs": [
				{
					"name": "stdout",
					"text": "\n",
					"output_type": "stream"
				}
			]
		},
		{
			"cell_type": "markdown",
			"source": "#### Example: load the dynamic frame into our Amazon Redshift cluster\n",
			"metadata": {
				"editable": true,
				"trusted": true
			}
		},
		{
			"cell_type": "code",
			"source": "dyf.show()",
			"metadata": {
				"trusted": true,
				"tags": []
			},
			"execution_count": 9,
			"outputs": [
				{
					"name": "stdout",
					"text": "{\"Region\": \"Europe\", \"Country\": \"Luxembourg\", \"year\": 2010, \"quarter\": 1, \"Total_Revenue\": 1123251.46, \"Total_Cost\": 662970.63, \"Total_Profit\": 460280.83}\n{\"Region\": \"Europe\", \"Country\": \"Switzerland\", \"year\": 2014, \"quarter\": 1, \"Total_Revenue\": 4429651.8, \"Total_Cost\": 2873705.61, \"Total_Profit\": 1555946.19}\n{\"Region\": \"Central America and the Caribbean\", \"Country\": \"Dominica\", \"year\": 2010, \"quarter\": 2, \"Total_Revenue\": 1255966.53, \"Total_Cost\": 1085682.13, \"Total_Profit\": 170284.4}\n{\"Region\": \"Australia and Oceania\", \"Country\": \"Federated States of Micronesia\", \"year\": 2012, \"quarter\": 2, \"Total_Revenue\": 5588354.33, \"Total_Cost\": 4029198.36, \"Total_Profit\": 1559155.97}\n{\"Region\": \"Europe\", \"Country\": \"Poland\", \"year\": 2015, \"quarter\": 4, \"Total_Revenue\": 5740416.15, \"Total_Cost\": 4627522.4, \"Total_Profit\": 1112893.75}\n{\"Region\": \"Sub-Saharan Africa\", \"Country\": \"Namibia\", \"year\": 2016, \"quarter\": 1, \"Total_Revenue\": 1861809.39, \"Total_Cost\": 1500860.64, \"Total_Profit\": 360948.75}\n{\"Region\": \"Europe\", \"Country\": \"Estonia\", \"year\": 2011, \"quarter\": 2, \"Total_Revenue\": 657986.0, \"Total_Cost\": 396311.65, \"Total_Profit\": 261674.35}\n{\"Region\": \"Europe\", \"Country\": \"Armenia\", \"year\": 2011, \"quarter\": 1, \"Total_Revenue\": 1000641.06, \"Total_Cost\": 647551.76, \"Total_Profit\": 353089.3}\n{\"Region\": \"Europe\", \"Country\": \"Denmark\", \"year\": 2016, \"quarter\": 2, \"Total_Revenue\": 27948.05, \"Total_Cost\": 18724.31, \"Total_Profit\": 9223.74}\n{\"Region\": \"Middle East and North Africa\", \"Country\": \"Lebanon\", \"year\": 2011, \"quarter\": 2, \"Total_Revenue\": 3937826.65, \"Total_Cost\": 2884792.9, \"Total_Profit\": 1053033.75}\n{\"Region\": \"Central America and the Caribbean\", \"Country\": \"Jamaica\", \"year\": 2013, \"quarter\": 3, \"Total_Revenue\": 792397.3799999999, \"Total_Cost\": 629472.22, \"Total_Profit\": 162925.16}\n{\"Region\": \"Middle East and North Africa\", \"Country\": \"Afghanistan\", \"year\": 2013, \"quarter\": 2, \"Total_Revenue\": 278255.2, \"Total_Cost\": 173767.8, \"Total_Profit\": 104487.4}\n{\"Region\": \"Europe\", \"Country\": \"Spain\", \"year\": 2011, \"quarter\": 4, \"Total_Revenue\": 4544537.69, \"Total_Cost\": 3633328.41, \"Total_Profit\": 911209.28}\n{\"Region\": \"Asia\", \"Country\": \"Taiwan\", \"year\": 2014, \"quarter\": 4, \"Total_Revenue\": 3204577.16, \"Total_Cost\": 1694851.36, \"Total_Profit\": 1509725.7999999998}\n{\"Region\": \"Europe\", \"Country\": \"Macedonia\", \"year\": 2014, \"quarter\": 3, \"Total_Revenue\": 4672951.7, \"Total_Cost\": 3482977.09, \"Total_Profit\": 1189974.61}\n{\"Region\": \"Sub-Saharan Africa\", \"Country\": \"Liberia\", \"year\": 2015, \"quarter\": 4, \"Total_Revenue\": 871139.5, \"Total_Cost\": 495960.85, \"Total_Profit\": 375178.65}\n{\"Region\": \"Central America and the Caribbean\", \"Country\": \"Jamaica\", \"year\": 2017, \"quarter\": 2, \"Total_Revenue\": 6577657.34, \"Total_Cost\": 4587400.02, \"Total_Profit\": 1990257.3199999998}\n{\"Region\": \"Sub-Saharan Africa\", \"Country\": \"Senegal\", \"year\": 2011, \"quarter\": 3, \"Total_Revenue\": 80527.23, \"Total_Cost\": 59726.52, \"Total_Profit\": 20800.71}\n{\"Region\": \"Asia\", \"Country\": \"Turkmenistan\", \"year\": 2010, \"quarter\": 4, \"Total_Revenue\": 3508859.13, \"Total_Cost\": 3033126.73, \"Total_Profit\": 475732.4}\n{\"Region\": \"Middle East and North Africa\", \"Country\": \"Saudi Arabia\", \"year\": 2013, \"quarter\": 4, \"Total_Revenue\": 9850970.7, \"Total_Cost\": 7127364.779999999, \"Total_Profit\": 2723605.92}\n",
					"output_type": "stream"
				}
			]
		},
		{
			"cell_type": "code",
			"source": "redshift_output = glueContext.write_dynamic_frame.from_jdbc_conf(\n    frame=dyf,\n    catalog_connection=\"redshift-demo-connection\",\n    connection_options={\"dbtable\": \"public.Regionalsales\",\"database\":\"dev\"},\n    redshift_tmp_dir = \"s3://aws-glue-assets-262136919150-us-east-1/temporary/\",\n    transformation_ctx = \"redshift_output\"\n)\n\n",
			"metadata": {
				"trusted": true,
				"tags": []
			},
			"execution_count": 12,
			"outputs": [
				{
					"name": "stdout",
					"text": "Py4JJavaError: An error occurred while calling o148.pyWriteDynamicFrame.\n: java.io.IOException: com.amazon.ws.emr.hadoop.fs.shaded.com.amazonaws.services.s3.model.AmazonS3Exception: Access Denied (Service: Amazon S3; Status Code: 403; Error Code: AccessDenied; Request ID: G1AHNQZ3T2AFRK54; S3 Extended Request ID: 1MqkaG+GPfeqVv4MlgjQA9yyGDzRSrK+VRxC1ABgmc1Xr9kRFKPS9BVXnkUxJZstKc6U8m/iq0DmghTvIFZ0Aql+9lJKac2g; Proxy: null), S3 Extended Request ID: 1MqkaG+GPfeqVv4MlgjQA9yyGDzRSrK+VRxC1ABgmc1Xr9kRFKPS9BVXnkUxJZstKc6U8m/iq0DmghTvIFZ0Aql+9lJKac2g\n\tat com.amazon.ws.emr.hadoop.fs.s3n.Jets3tNativeFileSystemStore.list(Jets3tNativeFileSystemStore.java:303)\n\tat com.amazon.ws.emr.hadoop.fs.s3n.S3NativeFileSystem.getFileStatus(S3NativeFileSystem.java:510)\n\tat org.apache.hadoop.fs.FileSystem.exists(FileSystem.java:1690)\n\tat com.amazon.ws.emr.hadoop.fs.EmrFileSystem.exists(EmrFileSystem.java:436)\n\tat org.apache.spark.sql.execution.datasources.InsertIntoHadoopFsRelationCommand.run(InsertIntoHadoopFsRelationCommand.scala:124)\n\tat org.apache.spark.sql.execution.command.DataWritingCommandExec.sideEffectResult$lzycompute(commands.scala:108)\n\tat org.apache.spark.sql.execution.command.DataWritingCommandExec.sideEffectResult(commands.scala:106)\n\tat org.apache.spark.sql.execution.command.DataWritingCommandExec.doExecute(commands.scala:131)\n\tat org.apache.spark.sql.execution.SparkPlan.$anonfun$execute$1(SparkPlan.scala:185)\n\tat org.apache.spark.sql.execution.SparkPlan.$anonfun$executeQuery$1(SparkPlan.scala:223)\n\tat org.apache.spark.rdd.RDDOperationScope$.withScope(RDDOperationScope.scala:151)\n\tat org.apache.spark.sql.execution.SparkPlan.executeQuery(SparkPlan.scala:220)\n\tat org.apache.spark.sql.execution.SparkPlan.execute(SparkPlan.scala:181)\n\tat org.apache.spark.sql.execution.QueryExecution.toRdd$lzycompute(QueryExecution.scala:134)\n\tat org.apache.spark.sql.execution.QueryExecution.toRdd(QueryExecution.scala:133)\n\tat org.apache.spark.sql.DataFrameWriter.$anonfun$runCommand$1(DataFrameWriter.scala:989)\n\tat org.apache.spark.sql.catalyst.QueryPlanningTracker$.withTracker(QueryPlanningTracker.scala:107)\n\tat org.apache.spark.sql.execution.SQLExecution$.withTracker(SQLExecution.scala:232)\n\tat org.apache.spark.sql.execution.SQLExecution$.executeQuery$1(SQLExecution.scala:110)\n\tat org.apache.spark.sql.execution.SQLExecution$.$anonfun$withNewExecutionId$6(SQLExecution.scala:135)\n\tat org.apache.spark.sql.catalyst.QueryPlanningTracker$.withTracker(QueryPlanningTracker.scala:107)\n\tat org.apache.spark.sql.execution.SQLExecution$.withTracker(SQLExecution.scala:232)\n\tat org.apache.spark.sql.execution.SQLExecution$.$anonfun$withNewExecutionId$5(SQLExecution.scala:135)\n\tat org.apache.spark.sql.execution.SQLExecution$.withSQLConfPropagated(SQLExecution.scala:253)\n\tat org.apache.spark.sql.execution.SQLExecution$.$anonfun$withNewExecutionId$1(SQLExecution.scala:134)\n\tat org.apache.spark.sql.SparkSession.withActive(SparkSession.scala:772)\n\tat org.apache.spark.sql.execution.SQLExecution$.withNewExecutionId(SQLExecution.scala:68)\n\tat org.apache.spark.sql.DataFrameWriter.runCommand(DataFrameWriter.scala:989)\n\tat org.apache.spark.sql.DataFrameWriter.saveToV1Source(DataFrameWriter.scala:438)\n\tat org.apache.spark.sql.DataFrameWriter.saveInternal(DataFrameWriter.scala:415)\n\tat org.apache.spark.sql.DataFrameWriter.save(DataFrameWriter.scala:293)\n\tat com.databricks.spark.redshift.RedshiftWriter.unloadData(RedshiftWriter.scala:323)\n\tat com.databricks.spark.redshift.RedshiftWriter.saveToRedshift(RedshiftWriter.scala:425)\n\tat com.databricks.spark.redshift.DefaultSource.createRelation(DefaultSource.scala:123)\n\tat org.apache.spark.sql.execution.datasources.SaveIntoDataSourceCommand.run(SaveIntoDataSourceCommand.scala:46)\n\tat org.apache.spark.sql.execution.command.ExecutedCommandExec.sideEffectResult$lzycompute(commands.scala:70)\n\tat org.apache.spark.sql.execution.command.ExecutedCommandExec.sideEffectResult(commands.scala:68)\n\tat org.apache.spark.sql.execution.command.ExecutedCommandExec.doExecute(commands.scala:90)\n\tat org.apache.spark.sql.execution.SparkPlan.$anonfun$execute$1(SparkPlan.scala:185)\n\tat org.apache.spark.sql.execution.SparkPlan.$anonfun$executeQuery$1(SparkPlan.scala:223)\n\tat org.apache.spark.rdd.RDDOperationScope$.withScope(RDDOperationScope.scala:151)\n\tat org.apache.spark.sql.execution.SparkPlan.executeQuery(SparkPlan.scala:220)\n\tat org.apache.spark.sql.execution.SparkPlan.execute(SparkPlan.scala:181)\n\tat org.apache.spark.sql.execution.QueryExecution.toRdd$lzycompute(QueryExecution.scala:134)\n\tat org.apache.spark.sql.execution.QueryExecution.toRdd(QueryExecution.scala:133)\n\tat org.apache.spark.sql.DataFrameWriter.$anonfun$runCommand$1(DataFrameWriter.scala:989)\n\tat org.apache.spark.sql.catalyst.QueryPlanningTracker$.withTracker(QueryPlanningTracker.scala:107)\n\tat org.apache.spark.sql.execution.SQLExecution$.withTracker(SQLExecution.scala:232)\n\tat org.apache.spark.sql.execution.SQLExecution$.executeQuery$1(SQLExecution.scala:110)\n\tat org.apache.spark.sql.execution.SQLExecution$.$anonfun$withNewExecutionId$6(SQLExecution.scala:135)\n\tat org.apache.spark.sql.catalyst.QueryPlanningTracker$.withTracker(QueryPlanningTracker.scala:107)\n\tat org.apache.spark.sql.execution.SQLExecution$.withTracker(SQLExecution.scala:232)\n\tat org.apache.spark.sql.execution.SQLExecution$.$anonfun$withNewExecutionId$5(SQLExecution.scala:135)\n\tat org.apache.spark.sql.execution.SQLExecution$.withSQLConfPropagated(SQLExecution.scala:253)\n\tat org.apache.spark.sql.execution.SQLExecution$.$anonfun$withNewExecutionId$1(SQLExecution.scala:134)\n\tat org.apache.spark.sql.SparkSession.withActive(SparkSession.scala:772)\n\tat org.apache.spark.sql.execution.SQLExecution$.withNewExecutionId(SQLExecution.scala:68)\n\tat org.apache.spark.sql.DataFrameWriter.runCommand(DataFrameWriter.scala:989)\n\tat org.apache.spark.sql.DataFrameWriter.saveToV1Source(DataFrameWriter.scala:438)\n\tat org.apache.spark.sql.DataFrameWriter.saveInternal(DataFrameWriter.scala:415)\n\tat org.apache.spark.sql.DataFrameWriter.save(DataFrameWriter.scala:301)\n\tat com.amazonaws.services.glue.util.RedshiftWrapper.writeDF(JDBCUtils.scala:1129)\n\tat com.amazonaws.services.glue.RedshiftDataSink.writeDynamicFrame(RedshiftDataSink.scala:143)\n\tat com.amazonaws.services.glue.DataSink.pyWriteDynamicFrame(DataSink.scala:71)\n\tat sun.reflect.NativeMethodAccessorImpl.invoke0(Native Method)\n\tat sun.reflect.NativeMethodAccessorImpl.invoke(NativeMethodAccessorImpl.java:62)\n\tat sun.reflect.DelegatingMethodAccessorImpl.invoke(DelegatingMethodAccessorImpl.java:43)\n\tat java.lang.reflect.Method.invoke(Method.java:498)\n\tat py4j.reflection.MethodInvoker.invoke(MethodInvoker.java:244)\n\tat py4j.reflection.ReflectionEngine.invoke(ReflectionEngine.java:357)\n\tat py4j.Gateway.invoke(Gateway.java:282)\n\tat py4j.commands.AbstractCommand.invokeMethod(AbstractCommand.java:132)\n\tat py4j.commands.CallCommand.execute(CallCommand.java:79)\n\tat py4j.GatewayConnection.run(GatewayConnection.java:238)\n\tat java.lang.Thread.run(Thread.java:750)\nCaused by: com.amazon.ws.emr.hadoop.fs.shaded.com.amazonaws.services.s3.model.AmazonS3Exception: Access Denied (Service: Amazon S3; Status Code: 403; Error Code: AccessDenied; Request ID: G1AHNQZ3T2AFRK54; S3 Extended Request ID: 1MqkaG+GPfeqVv4MlgjQA9yyGDzRSrK+VRxC1ABgmc1Xr9kRFKPS9BVXnkUxJZstKc6U8m/iq0DmghTvIFZ0Aql+9lJKac2g; Proxy: null), S3 Extended Request ID: 1MqkaG+GPfeqVv4MlgjQA9yyGDzRSrK+VRxC1ABgmc1Xr9kRFKPS9BVXnkUxJZstKc6U8m/iq0DmghTvIFZ0Aql+9lJKac2g\n\tat com.amazon.ws.emr.hadoop.fs.shaded.com.amazonaws.http.AmazonHttpClient$RequestExecutor.handleErrorResponse(AmazonHttpClient.java:1819)\n\tat com.amazon.ws.emr.hadoop.fs.shaded.com.amazonaws.http.AmazonHttpClient$RequestExecutor.handleServiceErrorResponse(AmazonHttpClient.java:1403)\n\tat com.amazon.ws.emr.hadoop.fs.shaded.com.amazonaws.http.AmazonHttpClient$RequestExecutor.executeOneRequest(AmazonHttpClient.java:1372)\n\tat com.amazon.ws.emr.hadoop.fs.shaded.com.amazonaws.http.AmazonHttpClient$RequestExecutor.executeHelper(AmazonHttpClient.java:1145)\n\tat com.amazon.ws.emr.hadoop.fs.shaded.com.amazonaws.http.AmazonHttpClient$RequestExecutor.doExecute(AmazonHttpClient.java:802)\n\tat com.amazon.ws.emr.hadoop.fs.shaded.com.amazonaws.http.AmazonHttpClient$RequestExecutor.executeWithTimer(AmazonHttpClient.java:770)\n\tat com.amazon.ws.emr.hadoop.fs.shaded.com.amazonaws.http.AmazonHttpClient$RequestExecutor.execute(AmazonHttpClient.java:744)\n\tat com.amazon.ws.emr.hadoop.fs.shaded.com.amazonaws.http.AmazonHttpClient$RequestExecutor.access$500(AmazonHttpClient.java:704)\n\tat com.amazon.ws.emr.hadoop.fs.shaded.com.amazonaws.http.AmazonHttpClient$RequestExecutionBuilderImpl.execute(AmazonHttpClient.java:686)\n\tat com.amazon.ws.emr.hadoop.fs.shaded.com.amazonaws.http.AmazonHttpClient.execute(AmazonHttpClient.java:550)\n\tat com.amazon.ws.emr.hadoop.fs.shaded.com.amazonaws.http.AmazonHttpClient.execute(AmazonHttpClient.java:530)\n\tat com.amazon.ws.emr.hadoop.fs.shaded.com.amazonaws.services.s3.AmazonS3Client.invoke(AmazonS3Client.java:5140)\n\tat com.amazon.ws.emr.hadoop.fs.shaded.com.amazonaws.services.s3.AmazonS3Client.invoke(AmazonS3Client.java:5086)\n\tat com.amazon.ws.emr.hadoop.fs.shaded.com.amazonaws.services.s3.AmazonS3Client.invoke(AmazonS3Client.java:5080)\n\tat com.amazon.ws.emr.hadoop.fs.shaded.com.amazonaws.services.s3.AmazonS3Client.listObjectsV2(AmazonS3Client.java:941)\n\tat com.amazon.ws.emr.hadoop.fs.s3.lite.call.ListObjectsV2Call.perform(ListObjectsV2Call.java:26)\n\tat com.amazon.ws.emr.hadoop.fs.s3.lite.call.ListObjectsV2Call.perform(ListObjectsV2Call.java:12)\n\tat com.amazon.ws.emr.hadoop.fs.s3.lite.executor.GlobalS3Executor.execute(GlobalS3Executor.java:114)\n\tat com.amazon.ws.emr.hadoop.fs.s3.lite.AmazonS3LiteClient.invoke(AmazonS3LiteClient.java:191)\n\tat com.amazon.ws.emr.hadoop.fs.s3.lite.AmazonS3LiteClient.invoke(AmazonS3LiteClient.java:186)\n\tat com.amazon.ws.emr.hadoop.fs.s3.lite.AmazonS3LiteClient.listObjectsV2(AmazonS3LiteClient.java:75)\n\tat com.amazon.ws.emr.hadoop.fs.s3n.Jets3tNativeFileSystemStore.list(Jets3tNativeFileSystemStore.java:294)\n\t... 74 more\n\n",
					"output_type": "stream"
				}
			]
		},
		{
			"cell_type": "code",
			"source": "",
			"metadata": {},
			"execution_count": null,
			"outputs": []
		}
	]
}